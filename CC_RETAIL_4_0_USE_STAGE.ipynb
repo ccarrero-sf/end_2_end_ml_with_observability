{
 "metadata": {
  "kernelspec": {
   "display_name": "Streamlit Notebook",
   "name": "streamlit"
  },
  "lastEditStatus": {
   "notebookId": "64wqfykdczzabmxwmrpo",
   "authorId": "5744486210470",
   "authorName": "CCARRERO",
   "authorEmail": "carlos.carrero@snowflake.com",
   "sessionId": "c3991668-754c-4eb3-b3a5-2882ed49c284",
   "lastEditTime": 1752480289667
  }
 },
 "nbformat_minor": 5,
 "nbformat": 4,
 "cells": [
  {
   "cell_type": "markdown",
   "id": "3775908f-ca36-4846-8f38-5adca39217f2",
   "metadata": {
    "name": "cell1",
    "collapsed": false
   },
   "source": "# Leverage existing dataset placed in S3 location\n\nUse this if you want to avoid creating your own dataset"
  },
  {
   "cell_type": "code",
   "id": "8d50cbf4-0c8d-4950-86cb-114990437ac9",
   "metadata": {
    "language": "sql",
    "name": "cell2"
   },
   "source": "\nCREATE OR REPLACE STAGE CSV\n  DIRECTORY = (ENABLE = TRUE)\n  URL = 's3://sfquickstarts/vhol_end_2_end_ml_with_observability/';",
   "execution_count": null,
   "outputs": []
  },
  {
   "cell_type": "code",
   "id": "210d4de9-bca5-4446-b058-2082c28a88f5",
   "metadata": {
    "language": "sql",
    "name": "cell3"
   },
   "outputs": [],
   "source": "ls @CSV; ",
   "execution_count": null
  }
 ]
}